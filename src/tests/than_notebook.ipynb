{
 "cells": [
  {
   "cell_type": "code",
   "execution_count": 1,
   "id": "40ea205b",
   "metadata": {},
   "outputs": [],
   "source": [
    "from ciphers.gpu import present80_gpu\n",
    "from ciphers.cpu import present80 as present80_cpu"
   ]
  },
  {
   "cell_type": "code",
   "execution_count": 2,
   "id": "e93a3da0",
   "metadata": {},
   "outputs": [
    {
     "name": "stdout",
     "output_type": "stream",
     "text": [
      "=== SPEED TEST PRESENT CTR GPU ===\n",
      "Number of blocks: 100,000,000\n",
      "Throughput: 0.000 Gbps\n",
      "Throughput: 0.155 Gbps\n",
      "Encrypt time    : 41176.27 ms (19.43 MB/s)\n",
      "Block  0: 123456789ABCDEF0 -> C0C8D669A22753BB\n",
      "Block  1: 123456789ABCDEF1 -> A139C71E3DA5652F\n",
      "Block  2: 123456789ABCDEF2 -> 8301AA36C811F710\n",
      "Block  3: 123456789ABCDEF3 -> B61D2D45FF546C55\n",
      "Block  4: 123456789ABCDEF4 -> FA886401A679B727\n",
      "\n",
      "--- Checking official test vector ---\n",
      "Throughput: 0.000 Gbps\n",
      "Expected: 0x5579C1387B228445\n",
      "Result  : 0x5579c1387b228445\n",
      "✔️ PRESENT encrypt [GPU T-table] correct.\n"
     ]
    }
   ],
   "source": [
    "present80_gpu.tests()"
   ]
  }
 ],
 "metadata": {
  "kernelspec": {
   "display_name": "NDC_framework",
   "language": "python",
   "name": "python3"
  },
  "language_info": {
   "codemirror_mode": {
    "name": "ipython",
    "version": 3
   },
   "file_extension": ".py",
   "mimetype": "text/x-python",
   "name": "python",
   "nbconvert_exporter": "python",
   "pygments_lexer": "ipython3",
   "version": "3.10.18"
  }
 },
 "nbformat": 4,
 "nbformat_minor": 5
}
