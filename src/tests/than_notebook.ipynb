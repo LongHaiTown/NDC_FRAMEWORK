{
 "cells": [
  {
   "cell_type": "code",
   "execution_count": 1,
   "id": "40ea205b",
   "metadata": {},
   "outputs": [
    {
     "name": "stdout",
     "output_type": "stream",
     "text": [
      "Computed: 0x5579c1387b228445\n",
      "Expected: 0x5579c1387b228445\n"
     ]
    }
   ],
   "source": [
    "from ciphers.gpu import present80_gpu\n",
    "from ciphers.cpu import present80 as present80_cpu\n",
    "\n",
    "from ciphers.cpu import speck3264 as speck3264_cpu\n",
    "from ciphers.gpu import speck3264_gpu"
   ]
  },
  {
   "cell_type": "markdown",
   "id": "a86af27a",
   "metadata": {},
   "source": [
    "## Test for pure encryption"
   ]
  },
  {
   "cell_type": "markdown",
   "id": "56edcdc0",
   "metadata": {},
   "source": [
    "### Present"
   ]
  },
  {
   "cell_type": "code",
   "execution_count": null,
   "id": "e39c2515",
   "metadata": {},
   "outputs": [],
   "source": [
    "# present80_cpu.benchmark_present80_numpy(batch_size=2000000)"
   ]
  },
  {
   "cell_type": "code",
   "execution_count": null,
   "id": "e93a3da0",
   "metadata": {},
   "outputs": [],
   "source": [
    "# present80_gpu.benchmark_gpu(batch_size=2000000)"
   ]
  },
  {
   "cell_type": "markdown",
   "id": "47c51717",
   "metadata": {},
   "source": [
    "### Speck3264"
   ]
  },
  {
   "cell_type": "code",
   "execution_count": 3,
   "id": "36a15f0e",
   "metadata": {},
   "outputs": [],
   "source": [
    "speck3264_cpu.check_testvectors()"
   ]
  },
  {
   "cell_type": "code",
   "execution_count": 3,
   "id": "41ded657",
   "metadata": {},
   "outputs": [
    {
     "name": "stdout",
     "output_type": "stream",
     "text": [
      "Final ciphertext (bit-level path): ['0xa868', '0x42f2']\n",
      "Match expected ciphertext [0xa868, 0x42f2]?\n",
      "True\n"
     ]
    }
   ],
   "source": [
    "speck3264_gpu.check_testvectors()"
   ]
  },
  {
   "cell_type": "code",
   "execution_count": 9,
   "id": "a2509211",
   "metadata": {},
   "outputs": [
    {
     "name": "stdout",
     "output_type": "stream",
     "text": [
      "10000000 blocks, 22 rounds: 18.5808s, tốc độ = 538,190.91 blocks/sec\n"
     ]
    }
   ],
   "source": [
    "speck3264_cpu.benchmark_numpy(batch_size=10_000_000)"
   ]
  },
  {
   "cell_type": "code",
   "execution_count": 8,
   "id": "95f1a8a0",
   "metadata": {},
   "outputs": [
    {
     "name": "stdout",
     "output_type": "stream",
     "text": [
      "10000000 blocks in 6.7190s, speed = 1488325.56 blocks/sec.\n"
     ]
    }
   ],
   "source": [
    "speck3264_gpu.benchmark_gpu(batch_size=10_000_000)"
   ]
  },
  {
   "cell_type": "markdown",
   "id": "53133978",
   "metadata": {},
   "source": [
    "## Test for data generator (encryption x2 -> XORing)"
   ]
  },
  {
   "cell_type": "markdown",
   "id": "919e0c95",
   "metadata": {},
   "source": [
    "### simple make_train_data (C1,C2)"
   ]
  },
  {
   "cell_type": "markdown",
   "id": "85c88cbb",
   "metadata": {},
   "source": [
    "#### CPU - PRESENT"
   ]
  },
  {
   "cell_type": "code",
   "execution_count": null,
   "id": "c563e01e",
   "metadata": {},
   "outputs": [],
   "source": [
    "from generator import cipherpair_generator_cpu as cc"
   ]
  },
  {
   "cell_type": "code",
   "execution_count": null,
   "id": "0350f413",
   "metadata": {},
   "outputs": [
    {
     "name": "stdout",
     "output_type": "stream",
     "text": [
      "[CPU/NumPy] Tạo 1000000 mẫu: 99.1131s (10,089.48 mẫu/giây)\n"
     ]
    }
   ],
   "source": [
    "cipher_name = \"present\" \n",
    "encryption_function = present80_cpu.encrypt\n",
    "plain_bits = present80_cpu.plain_bits\n",
    "key_bits = present80_cpu.key_bits\n",
    "num_samples = 1_000_000\n",
    "nr = 32\n",
    "\n",
    "delta = cc.integer_to_binary_array(0x90000000000, plain_bits)\n",
    "delta_key = 0\n",
    "delta_plain = delta[:plain_bits]\n",
    "\n",
    "data_generator = lambda num_samples, nr: cc.make_train_data(\n",
    "    encryption_function, plain_bits, key_bits, num_samples, nr, delta_plain, delta_key\n",
    ")\n",
    "\n",
    "# maybe can put this func into \\test ?\n",
    "C_gpu, Y_gpu = cc.benchmark_make_train_data_cpu(encryption_function, num_samples, nr, plain_bits, key_bits)\n"
   ]
  },
  {
   "cell_type": "code",
   "execution_count": null,
   "id": "2c08379f",
   "metadata": {},
   "outputs": [
    {
     "name": "stdout",
     "output_type": "stream",
     "text": [
      "✅ Saved present dataset to ../../data\\present_ciphertextpair_present_round32_samples1000000.npz\n"
     ]
    }
   ],
   "source": [
    "# maybe can put these func into \\utils ?\n",
    "cc.save_ciphertexpair_dataset_npz(C_gpu,Y_gpu,cipher_name=cipher_name,num_rounds=nr,num_samples=num_samples)"
   ]
  },
  {
   "cell_type": "markdown",
   "id": "54fd6e27",
   "metadata": {},
   "source": [
    "### GPU PRESENT"
   ]
  },
  {
   "cell_type": "code",
   "execution_count": null,
   "id": "ab57ac14",
   "metadata": {},
   "outputs": [],
   "source": [
    "from generator import cipherpair_generator_gpu as cp"
   ]
  },
  {
   "cell_type": "code",
   "execution_count": null,
   "id": "7fa04d7b",
   "metadata": {},
   "outputs": [
    {
     "name": "stdout",
     "output_type": "stream",
     "text": [
      "[GPU/CuPy] Tạo 1000000 mẫu: 6.6792s (149,718.28 mẫu/giây)\n"
     ]
    }
   ],
   "source": [
    "cipher_name = \"present\" \n",
    "encryption_function = present80_gpu.encrypt\n",
    "plain_bits = present80_gpu.plain_bits\n",
    "key_bits = present80_gpu.key_bits\n",
    "num_samples = 1_000_000\n",
    "nr = 32\n",
    "\n",
    "delta = cp.integer_to_binary_array(0x90000000000, plain_bits)\n",
    "delta_key = 0\n",
    "delta_plain = delta[:plain_bits]\n",
    "\n",
    "data_generator = lambda num_samples, nr: cp.make_train_data(\n",
    "    encryption_function, plain_bits, key_bits, num_samples, nr, delta_plain, delta_key\n",
    ")\n",
    "\n",
    "# maybe can put this func into \\test ?\n",
    "C_gpu, Y_gpu = cp.benchmark_make_train_data_gpu(encryption_function, num_samples, nr, plain_bits,key_bits)\n"
   ]
  },
  {
   "cell_type": "code",
   "execution_count": null,
   "id": "304c3c1d",
   "metadata": {},
   "outputs": [
    {
     "name": "stdout",
     "output_type": "stream",
     "text": [
      "✅ Saved present_gpu dataset to ../../data\\present_gpu_ciphertextpair_present_gpu_round32_samples1000000.npz\n"
     ]
    }
   ],
   "source": [
    "# maybe can put these func into \\utils ?\n",
    "cc.save_ciphertexpair_dataset_npz(C_gpu,Y_gpu,cipher_name=cipher_name+\"_gpu\",num_rounds=nr,num_samples=num_samples)"
   ]
  },
  {
   "cell_type": "markdown",
   "id": "646eeb17",
   "metadata": {},
   "source": [
    "## Test training (one round)"
   ]
  },
  {
   "cell_type": "markdown",
   "id": "105cb881",
   "metadata": {},
   "source": [
    "### DbitNet"
   ]
  },
  {
   "cell_type": "code",
   "execution_count": null,
   "id": "3ac038c5",
   "metadata": {},
   "outputs": [],
   "source": [
    "import tensorflow as tf\n",
    "from models import dbitnet"
   ]
  },
  {
   "cell_type": "markdown",
   "id": "14e6082e",
   "metadata": {},
   "source": [
    "PRESENT GPU"
   ]
  },
  {
   "cell_type": "code",
   "execution_count": null,
   "id": "f93ad6cb",
   "metadata": {},
   "outputs": [],
   "source": [
    "from models import train_nets as tn"
   ]
  },
  {
   "cell_type": "code",
   "execution_count": null,
   "id": "1a265975",
   "metadata": {},
   "outputs": [
    {
     "ename": "ValueError",
     "evalue": "A KerasTensor cannot be used as input to a TensorFlow function. A KerasTensor is a symbolic placeholder for a shape and dtype, used when constructing Keras Functional models or Keras Functions. You can only use it as input to a Keras layer or a Keras operation (from the namespaces `keras.layers` and `keras.ops`). You are likely doing something like:\n\n```\nx = Input(...)\n...\ntf_fn(x)  # Invalid.\n```\n\nWhat you should do instead is wrap `tf_fn` in a layer:\n\n```\nclass MyLayer(Layer):\n    def call(self, x):\n        return tf_fn(x)\n\nx = MyLayer()(x)\n```\n",
     "output_type": "error",
     "traceback": [
      "\u001b[1;31m---------------------------------------------------------------------------\u001b[0m",
      "\u001b[1;31mValueError\u001b[0m                                Traceback (most recent call last)",
      "Cell \u001b[1;32mIn[13], line 2\u001b[0m\n\u001b[0;32m      1\u001b[0m input_size \u001b[38;5;241m=\u001b[39m plain_bits\n\u001b[1;32m----> 2\u001b[0m model \u001b[38;5;241m=\u001b[39m \u001b[43mdbitnet\u001b[49m\u001b[38;5;241;43m.\u001b[39;49m\u001b[43mmake_model\u001b[49m\u001b[43m(\u001b[49m\u001b[38;5;241;43m2\u001b[39;49m\u001b[43m \u001b[49m\u001b[38;5;241;43m*\u001b[39;49m\u001b[43m \u001b[49m\u001b[43minput_size\u001b[49m\u001b[43m)\u001b[49m\n\u001b[0;32m      3\u001b[0m optimizer \u001b[38;5;241m=\u001b[39m tf\u001b[38;5;241m.\u001b[39mkeras\u001b[38;5;241m.\u001b[39moptimizers\u001b[38;5;241m.\u001b[39mAdam(amsgrad\u001b[38;5;241m=\u001b[39m\u001b[38;5;28;01mTrue\u001b[39;00m)\n",
      "File \u001b[1;32mD:\\NDC_FRAMEWORK\\src\\models\\dbitnet.py:35\u001b[0m, in \u001b[0;36mmake_model\u001b[1;34m(input_size, n_filters, n_add_filters)\u001b[0m\n\u001b[0;32m     32\u001b[0m x \u001b[38;5;241m=\u001b[39m inputs\n\u001b[0;32m     34\u001b[0m \u001b[38;5;66;03m# normalize the input data to a range of [-1, 1]:\u001b[39;00m\n\u001b[1;32m---> 35\u001b[0m x \u001b[38;5;241m=\u001b[39m \u001b[43mtf\u001b[49m\u001b[38;5;241;43m.\u001b[39;49m\u001b[43msubtract\u001b[49m\u001b[43m(\u001b[49m\u001b[43mx\u001b[49m\u001b[43m,\u001b[49m\u001b[43m \u001b[49m\u001b[38;5;241;43m0.5\u001b[39;49m\u001b[43m)\u001b[49m\n\u001b[0;32m     36\u001b[0m x \u001b[38;5;241m=\u001b[39m tf\u001b[38;5;241m.\u001b[39mdivide(x, \u001b[38;5;241m0.5\u001b[39m)\n\u001b[0;32m     38\u001b[0m \u001b[38;5;28;01mfor\u001b[39;00m dilation_rate \u001b[38;5;129;01min\u001b[39;00m dilation_rates:\n\u001b[0;32m     39\u001b[0m     \u001b[38;5;66;03m### wide-narrow blocks\u001b[39;00m\n",
      "File \u001b[1;32mc:\\conda\\envs\\NDC_framework\\lib\\site-packages\\tensorflow\\python\\util\\traceback_utils.py:153\u001b[0m, in \u001b[0;36mfilter_traceback.<locals>.error_handler\u001b[1;34m(*args, **kwargs)\u001b[0m\n\u001b[0;32m    151\u001b[0m \u001b[38;5;28;01mexcept\u001b[39;00m \u001b[38;5;167;01mException\u001b[39;00m \u001b[38;5;28;01mas\u001b[39;00m e:\n\u001b[0;32m    152\u001b[0m   filtered_tb \u001b[38;5;241m=\u001b[39m _process_traceback_frames(e\u001b[38;5;241m.\u001b[39m__traceback__)\n\u001b[1;32m--> 153\u001b[0m   \u001b[38;5;28;01mraise\u001b[39;00m e\u001b[38;5;241m.\u001b[39mwith_traceback(filtered_tb) \u001b[38;5;28;01mfrom\u001b[39;00m\u001b[38;5;250m \u001b[39m\u001b[38;5;28;01mNone\u001b[39;00m\n\u001b[0;32m    154\u001b[0m \u001b[38;5;28;01mfinally\u001b[39;00m:\n\u001b[0;32m    155\u001b[0m   \u001b[38;5;28;01mdel\u001b[39;00m filtered_tb\n",
      "File \u001b[1;32mc:\\conda\\envs\\NDC_framework\\lib\\site-packages\\keras\\src\\backend\\common\\keras_tensor.py:156\u001b[0m, in \u001b[0;36mKerasTensor.__tf_tensor__\u001b[1;34m(self, dtype, name)\u001b[0m\n\u001b[0;32m    155\u001b[0m \u001b[38;5;28;01mdef\u001b[39;00m\u001b[38;5;250m \u001b[39m\u001b[38;5;21m__tf_tensor__\u001b[39m(\u001b[38;5;28mself\u001b[39m, dtype\u001b[38;5;241m=\u001b[39m\u001b[38;5;28;01mNone\u001b[39;00m, name\u001b[38;5;241m=\u001b[39m\u001b[38;5;28;01mNone\u001b[39;00m):\n\u001b[1;32m--> 156\u001b[0m     \u001b[38;5;28;01mraise\u001b[39;00m \u001b[38;5;167;01mValueError\u001b[39;00m(\n\u001b[0;32m    157\u001b[0m         \u001b[38;5;124m\"\u001b[39m\u001b[38;5;124mA KerasTensor cannot be used as input to a TensorFlow function. \u001b[39m\u001b[38;5;124m\"\u001b[39m\n\u001b[0;32m    158\u001b[0m         \u001b[38;5;124m\"\u001b[39m\u001b[38;5;124mA KerasTensor is a symbolic placeholder for a shape and dtype, \u001b[39m\u001b[38;5;124m\"\u001b[39m\n\u001b[0;32m    159\u001b[0m         \u001b[38;5;124m\"\u001b[39m\u001b[38;5;124mused when constructing Keras Functional models \u001b[39m\u001b[38;5;124m\"\u001b[39m\n\u001b[0;32m    160\u001b[0m         \u001b[38;5;124m\"\u001b[39m\u001b[38;5;124mor Keras Functions. You can only use it as input to a Keras layer \u001b[39m\u001b[38;5;124m\"\u001b[39m\n\u001b[0;32m    161\u001b[0m         \u001b[38;5;124m\"\u001b[39m\u001b[38;5;124mor a Keras operation (from the namespaces `keras.layers` \u001b[39m\u001b[38;5;124m\"\u001b[39m\n\u001b[0;32m    162\u001b[0m         \u001b[38;5;124m\"\u001b[39m\u001b[38;5;124mand `keras.ops`). \u001b[39m\u001b[38;5;124m\"\u001b[39m\n\u001b[0;32m    163\u001b[0m         \u001b[38;5;124m\"\u001b[39m\u001b[38;5;124mYou are likely doing something like:\u001b[39m\u001b[38;5;130;01m\\n\u001b[39;00m\u001b[38;5;130;01m\\n\u001b[39;00m\u001b[38;5;124m\"\u001b[39m\n\u001b[0;32m    164\u001b[0m         \u001b[38;5;124m\"\u001b[39m\u001b[38;5;124m```\u001b[39m\u001b[38;5;130;01m\\n\u001b[39;00m\u001b[38;5;124m\"\u001b[39m\n\u001b[0;32m    165\u001b[0m         \u001b[38;5;124m\"\u001b[39m\u001b[38;5;124mx = Input(...)\u001b[39m\u001b[38;5;130;01m\\n\u001b[39;00m\u001b[38;5;124m\"\u001b[39m\n\u001b[0;32m    166\u001b[0m         \u001b[38;5;124m\"\u001b[39m\u001b[38;5;124m...\u001b[39m\u001b[38;5;130;01m\\n\u001b[39;00m\u001b[38;5;124m\"\u001b[39m\n\u001b[0;32m    167\u001b[0m         \u001b[38;5;124m\"\u001b[39m\u001b[38;5;124mtf_fn(x)  # Invalid.\u001b[39m\u001b[38;5;130;01m\\n\u001b[39;00m\u001b[38;5;124m\"\u001b[39m\n\u001b[0;32m    168\u001b[0m         \u001b[38;5;124m\"\u001b[39m\u001b[38;5;124m```\u001b[39m\u001b[38;5;130;01m\\n\u001b[39;00m\u001b[38;5;130;01m\\n\u001b[39;00m\u001b[38;5;124m\"\u001b[39m\n\u001b[0;32m    169\u001b[0m         \u001b[38;5;124m\"\u001b[39m\u001b[38;5;124mWhat you should do instead is wrap `tf_fn` in a layer:\u001b[39m\u001b[38;5;130;01m\\n\u001b[39;00m\u001b[38;5;130;01m\\n\u001b[39;00m\u001b[38;5;124m\"\u001b[39m\n\u001b[0;32m    170\u001b[0m         \u001b[38;5;124m\"\u001b[39m\u001b[38;5;124m```\u001b[39m\u001b[38;5;130;01m\\n\u001b[39;00m\u001b[38;5;124m\"\u001b[39m\n\u001b[0;32m    171\u001b[0m         \u001b[38;5;124m\"\u001b[39m\u001b[38;5;124mclass MyLayer(Layer):\u001b[39m\u001b[38;5;130;01m\\n\u001b[39;00m\u001b[38;5;124m\"\u001b[39m\n\u001b[0;32m    172\u001b[0m         \u001b[38;5;124m\"\u001b[39m\u001b[38;5;124m    def call(self, x):\u001b[39m\u001b[38;5;130;01m\\n\u001b[39;00m\u001b[38;5;124m\"\u001b[39m\n\u001b[0;32m    173\u001b[0m         \u001b[38;5;124m\"\u001b[39m\u001b[38;5;124m        return tf_fn(x)\u001b[39m\u001b[38;5;130;01m\\n\u001b[39;00m\u001b[38;5;130;01m\\n\u001b[39;00m\u001b[38;5;124m\"\u001b[39m\n\u001b[0;32m    174\u001b[0m         \u001b[38;5;124m\"\u001b[39m\u001b[38;5;124mx = MyLayer()(x)\u001b[39m\u001b[38;5;130;01m\\n\u001b[39;00m\u001b[38;5;124m\"\u001b[39m\n\u001b[0;32m    175\u001b[0m         \u001b[38;5;124m\"\u001b[39m\u001b[38;5;124m```\u001b[39m\u001b[38;5;130;01m\\n\u001b[39;00m\u001b[38;5;124m\"\u001b[39m\n\u001b[0;32m    176\u001b[0m     )\n",
      "\u001b[1;31mValueError\u001b[0m: A KerasTensor cannot be used as input to a TensorFlow function. A KerasTensor is a symbolic placeholder for a shape and dtype, used when constructing Keras Functional models or Keras Functions. You can only use it as input to a Keras layer or a Keras operation (from the namespaces `keras.layers` and `keras.ops`). You are likely doing something like:\n\n```\nx = Input(...)\n...\ntf_fn(x)  # Invalid.\n```\n\nWhat you should do instead is wrap `tf_fn` in a layer:\n\n```\nclass MyLayer(Layer):\n    def call(self, x):\n        return tf_fn(x)\n\nx = MyLayer()(x)\n```\n"
     ]
    }
   ],
   "source": [
    "input_size = plain_bits\n",
    "model = dbitnet.make_model(2 * input_size)\n",
    "optimizer = tf.keras.optimizers.Adam(amsgrad=True)"
   ]
  }
 ],
 "metadata": {
  "kernelspec": {
   "display_name": "NDC_framework",
   "language": "python",
   "name": "python3"
  },
  "language_info": {
   "codemirror_mode": {
    "name": "ipython",
    "version": 3
   },
   "file_extension": ".py",
   "mimetype": "text/x-python",
   "name": "python",
   "nbconvert_exporter": "python",
   "pygments_lexer": "ipython3",
   "version": "3.10.18"
  }
 },
 "nbformat": 4,
 "nbformat_minor": 5
}
